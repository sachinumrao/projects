{
 "cells": [
  {
   "cell_type": "code",
   "execution_count": 80,
   "metadata": {},
   "outputs": [],
   "source": [
    "import numpy as np\n",
    "import pandas as pd\n",
    "import matplotlib.pyplot as plt\n",
    "from sklearn.model_selection import train_test_split\n",
    "from sklearn.metrics import f1_score\n",
    "import time"
   ]
  },
  {
   "cell_type": "code",
   "execution_count": 81,
   "metadata": {},
   "outputs": [],
   "source": [
    "###"
   ]
  },
  {
   "cell_type": "code",
   "execution_count": 82,
   "metadata": {},
   "outputs": [],
   "source": [
    "#read file\n",
    "data = pd.read_csv('cancer.txt', sep=\",\", header=None)"
   ]
  },
  {
   "cell_type": "code",
   "execution_count": 83,
   "metadata": {},
   "outputs": [
    {
     "data": {
      "text/plain": [
       "(699, 11)"
      ]
     },
     "execution_count": 83,
     "metadata": {},
     "output_type": "execute_result"
    }
   ],
   "source": [
    "data.shape"
   ]
  },
  {
   "cell_type": "code",
   "execution_count": 84,
   "metadata": {},
   "outputs": [],
   "source": [
    "#remove first column containing ids\n",
    "data = data.drop(data.columns[0], axis=1)"
   ]
  },
  {
   "cell_type": "code",
   "execution_count": 85,
   "metadata": {},
   "outputs": [
    {
     "data": {
      "text/plain": [
       "(699, 10)"
      ]
     },
     "execution_count": 85,
     "metadata": {},
     "output_type": "execute_result"
    }
   ],
   "source": [
    "data.shape"
   ]
  },
  {
   "cell_type": "code",
   "execution_count": 86,
   "metadata": {},
   "outputs": [],
   "source": [
    "#remove non-neumerical data\n",
    "from numpy import NaN\n",
    "for i in range(data.shape[1]):\n",
    "    for j in range(data.shape[0]):\n",
    "        if data.iloc[j,i] == '?':\n",
    "            data.iloc[j,i] = data[i].mean()"
   ]
  },
  {
   "cell_type": "code",
   "execution_count": 87,
   "metadata": {},
   "outputs": [],
   "source": [
    "#data = data.fillna(data.mode().iloc[0])\n",
    "ndata =data.values"
   ]
  },
  {
   "cell_type": "code",
   "execution_count": 88,
   "metadata": {},
   "outputs": [
    {
     "data": {
      "text/plain": [
       "array([[ 5.,  1.,  1., ...,  1.,  1.,  2.],\n",
       "       [ 5.,  4.,  4., ...,  2.,  1.,  2.],\n",
       "       [ 3.,  1.,  1., ...,  1.,  1.,  2.],\n",
       "       ...,\n",
       "       [ 5., 10., 10., ..., 10.,  2.,  4.],\n",
       "       [ 4.,  8.,  6., ...,  6.,  1.,  4.],\n",
       "       [ 4.,  8.,  8., ...,  4.,  1.,  4.]], dtype=float32)"
      ]
     },
     "execution_count": 88,
     "metadata": {},
     "output_type": "execute_result"
    }
   ],
   "source": [
    "ndata.shape\n",
    "ndata.astype('float32')"
   ]
  },
  {
   "cell_type": "code",
   "execution_count": 89,
   "metadata": {},
   "outputs": [
    {
     "name": "stdout",
     "output_type": "stream",
     "text": [
      "1\n",
      "0\n",
      "(699, 9)\n"
     ]
    }
   ],
   "source": [
    "x = ndata[:,:9]\n",
    "y = ndata[:,9]//4\n",
    "print(np.max(y))\n",
    "print(np.min(y))\n",
    "print(x.shape)"
   ]
  },
  {
   "cell_type": "code",
   "execution_count": 90,
   "metadata": {},
   "outputs": [],
   "source": [
    "num_feats = x.shape[1]\n",
    "x.astype(float)\n",
    "for i in range(num_feats):\n",
    "    t = x[:,i]\n",
    "    t = t.astype('float32')\n",
    "    #print(type(t))\n",
    "    #print(t.shape)\n",
    "    x[:,i] = (t - np.min(t))/(np.max(t) - np.min(t))\n",
    "    "
   ]
  },
  {
   "cell_type": "code",
   "execution_count": 91,
   "metadata": {},
   "outputs": [
    {
     "name": "stdout",
     "output_type": "stream",
     "text": [
      "(699, 10)\n"
     ]
    }
   ],
   "source": [
    "#add bias term\n",
    "b = np.ones((x.shape[0],1))\n",
    "x = np.hstack((x,b))\n",
    "print(x.shape)"
   ]
  },
  {
   "cell_type": "code",
   "execution_count": 92,
   "metadata": {},
   "outputs": [],
   "source": [
    "xtr,x_test,ytr,y_test = train_test_split(x,y,test_size=0.3)"
   ]
  },
  {
   "cell_type": "code",
   "execution_count": 93,
   "metadata": {},
   "outputs": [
    {
     "name": "stdout",
     "output_type": "stream",
     "text": [
      "(489,)\n",
      "(210,)\n",
      "(489, 10)\n",
      "(210, 10)\n"
     ]
    }
   ],
   "source": [
    "print(ytr.shape)\n",
    "print(y_test.shape)\n",
    "print(xtr.shape)\n",
    "print(x_test.shape)"
   ]
  },
  {
   "cell_type": "code",
   "execution_count": 94,
   "metadata": {},
   "outputs": [
    {
     "name": "stdout",
     "output_type": "stream",
     "text": [
      "[[4.34654280e-01]\n",
      " [3.87676296e-01]\n",
      " [1.95208580e-01]\n",
      " [6.67443819e-01]\n",
      " [9.47933842e-01]\n",
      " [9.43123775e-01]\n",
      " [8.53853484e-01]\n",
      " [7.19655812e-01]\n",
      " [8.53915915e-04]\n",
      " [3.68260582e-01]]\n",
      "(10, 1)\n"
     ]
    }
   ],
   "source": [
    "#uniform random initialization of weights\n",
    "w = np.random.uniform(0.0,1.0,x.shape[1]).reshape(x.shape[1],1)\n",
    "print(w)\n",
    "print(w.shape)"
   ]
  },
  {
   "cell_type": "code",
   "execution_count": 95,
   "metadata": {},
   "outputs": [],
   "source": [
    "#define hyper-parameters\n",
    "epochs = 20000\n",
    "a = 0.02"
   ]
  },
  {
   "cell_type": "code",
   "execution_count": 96,
   "metadata": {},
   "outputs": [
    {
     "name": "stdout",
     "output_type": "stream",
     "text": [
      "Average Time Taken per Epoch:  0.0018555188298225403\n",
      "Total Time Taken:  37.110376596450806\n",
      "Minimum Training Loss:  0.09235525189389937\n",
      "Minimum Test Loss:  0.0364458276746473\n",
      "Final Training Loss:  0.09235525189389937\n",
      "Final Test Loss:  0.03666940316003545\n"
     ]
    }
   ],
   "source": [
    "#logistic regression with constant learning rate \n",
    "t1 = time.time()\n",
    "\n",
    "train_acc = []\n",
    "test_acc = []\n",
    "\n",
    "m = xtr.shape[0]\n",
    "n = xtr.shape[1]\n",
    "\n",
    "mte = x_test.shape[0]\n",
    "\n",
    "for i in range(epochs):\n",
    "    z = np.dot(xtr,w)\n",
    "    z = z.astype('float')\n",
    "    ybar = 1/(1+np.exp(-z))\n",
    "    ybar = ybar.flatten()\n",
    "    \n",
    "    #cross-entropy loss in training set\n",
    "    err = -np.sum(((1-ytr)*np.log(1-ybar)+ytr*np.log(ybar)))/m\n",
    "    \n",
    "    train_acc.append(err)\n",
    "    \n",
    "    #cross-entropy loss in test set\n",
    "    tmp1 = np.dot(x_test,w)\n",
    "    tmp1 = tmp1.astype('float')\n",
    "    tmp = 1/(1+np.exp(-tmp1))\n",
    "    tmp = tmp.flatten()\n",
    "    \n",
    "    term1 = (1.0 - y_test)\n",
    "    term2 = np.log(1.0 - tmp)\n",
    "    term3 = y_test\n",
    "    term4 = np.log(tmp)    \n",
    "    tmp_err = -np.sum(term1*term2 - term3*term4)/mte\n",
    "    test_acc.append(tmp_err)\n",
    "    \n",
    "    #calculate gradient\n",
    "    one_y = 1 - ytr\n",
    "    one_yhat = (1 - ybar)\n",
    "    \n",
    "    for j in range(n):\n",
    "        xcurr = xtr[:,j]\n",
    "        \n",
    "        ntmp = (one_y*ybar - one_yhat*ytr)*xcurr\n",
    "        del_w = np.sum(ntmp)/m \n",
    "        w[j] = w[j] - a*del_w\n",
    "\n",
    "    #if(i%500 == 0):\n",
    "        \n",
    "        #print(\"Train Error\", err)\n",
    "        #print(\"Test Error\", tmp_err)\n",
    "\n",
    "        \n",
    "t2 = time.time()\n",
    "print(\"Average Time Taken per Epoch: \", (t2-t1)/epochs)\n",
    "print(\"Total Time Taken: \",t2-t1)\n",
    "print(\"Minimum Training Loss: \", min(train_acc))\n",
    "print(\"Minimum Test Loss: \", min(test_acc))\n",
    "print(\"Final Training Loss: \", train_acc[-1])\n",
    "print(\"Final Test Loss: \", test_acc[-1])"
   ]
  },
  {
   "cell_type": "code",
   "execution_count": 97,
   "metadata": {},
   "outputs": [
    {
     "data": {
      "image/png": "[encoded data removed]",
      "text/plain": [
       "<matplotlib.figure.Figure at 0x7f34ba5571d0>"
      ]
     },
     "metadata": {},
     "output_type": "display_data"
    }
   ],
   "source": [
    "x_axis = np.arange(len(test_acc))\n",
    "import matplotlib.pyplot as plt\n",
    "%matplotlib inline\n",
    "plt.plot(x_axis,train_acc,'g')\n",
    "plt.plot(x_axis,test_acc,'r')\n",
    "plt.show()"
   ]
  },
  {
   "cell_type": "code",
   "execution_count": 98,
   "metadata": {},
   "outputs": [],
   "source": [
    "tmp = tmp//0.51\n",
    "tmp = tmp.astype('int')"
   ]
  },
  {
   "cell_type": "code",
   "execution_count": 99,
   "metadata": {},
   "outputs": [
    {
     "name": "stdout",
     "output_type": "stream",
     "text": [
      "0.02857142857142857\n"
     ]
    }
   ],
   "source": [
    "d = tmp - y_test\n",
    "dacc = np.abs(d)\n",
    "acc = np.sum(dacc)/tmp.shape[0]\n",
    "print(acc)"
   ]
  },
  {
   "cell_type": "code",
   "execution_count": 100,
   "metadata": {},
   "outputs": [
    {
     "name": "stdout",
     "output_type": "stream",
     "text": [
      "0.9678571428571429\n"
     ]
    }
   ],
   "source": [
    "y_true = list(y_test)\n",
    "y_pred = list(tmp)\n",
    "score = f1_score(y_true, y_pred, average='macro')\n",
    "print(score)"
   ]
  },
  {
   "cell_type": "code",
   "execution_count": null,
   "metadata": {},
   "outputs": [],
   "source": []
  }
 ],
 "metadata": {
  "kernelspec": {
   "display_name": "Python 3",
   "language": "python",
   "name": "python3"
  },
  "language_info": {
   "codemirror_mode": {
    "name": "ipython",
    "version": 3
   },
   "file_extension": ".py",
   "mimetype": "text/x-python",
   "name": "python",
   "nbconvert_exporter": "python",
   "pygments_lexer": "ipython3",
   "version": "3.6.4"
  }
 },
 "nbformat": 4,
 "nbformat_minor": 2
}
