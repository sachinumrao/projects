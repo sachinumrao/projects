{
 "cells": [
  {
   "cell_type": "code",
   "execution_count": 103,
   "metadata": {},
   "outputs": [],
   "source": [
    "import numpy as np\n",
    "from numpy.linalg import norm\n",
    "import pandas as pd\n",
    "import matplotlib.pyplot as plt\n",
    "from sklearn.model_selection import train_test_split\n",
    "from sklearn.metrics import f1_score\n",
    "import time"
   ]
  },
  {
   "cell_type": "code",
   "execution_count": 104,
   "metadata": {},
   "outputs": [],
   "source": [
    "#read file\n",
    "data = pd.read_csv('cancer.txt', sep=\",\", header=None)"
   ]
  },
  {
   "cell_type": "code",
   "execution_count": 105,
   "metadata": {},
   "outputs": [
    {
     "data": {
      "text/plain": [
       "(699, 11)"
      ]
     },
     "execution_count": 105,
     "metadata": {},
     "output_type": "execute_result"
    }
   ],
   "source": [
    "data.shape"
   ]
  },
  {
   "cell_type": "code",
   "execution_count": 106,
   "metadata": {},
   "outputs": [],
   "source": [
    "#remove first column containing ids\n",
    "data = data.drop(data.columns[0], axis=1)"
   ]
  },
  {
   "cell_type": "code",
   "execution_count": 107,
   "metadata": {},
   "outputs": [
    {
     "data": {
      "text/plain": [
       "(699, 10)"
      ]
     },
     "execution_count": 107,
     "metadata": {},
     "output_type": "execute_result"
    }
   ],
   "source": [
    "data.shape"
   ]
  },
  {
   "cell_type": "code",
   "execution_count": 108,
   "metadata": {},
   "outputs": [],
   "source": [
    "#remove non-neumerical data\n",
    "from numpy import NaN\n",
    "for i in range(data.shape[1]):\n",
    "    for j in range(data.shape[0]):\n",
    "        if data.iloc[j,i] == '?':\n",
    "            data.iloc[j,i] = data[i].mean()"
   ]
  },
  {
   "cell_type": "code",
   "execution_count": 109,
   "metadata": {},
   "outputs": [],
   "source": [
    "#data = data.fillna(data.mode().iloc[0])\n",
    "ndata =data.values"
   ]
  },
  {
   "cell_type": "code",
   "execution_count": 110,
   "metadata": {},
   "outputs": [
    {
     "data": {
      "text/plain": [
       "array([[ 5.,  1.,  1., ...,  1.,  1.,  2.],\n",
       "       [ 5.,  4.,  4., ...,  2.,  1.,  2.],\n",
       "       [ 3.,  1.,  1., ...,  1.,  1.,  2.],\n",
       "       ...,\n",
       "       [ 5., 10., 10., ..., 10.,  2.,  4.],\n",
       "       [ 4.,  8.,  6., ...,  6.,  1.,  4.],\n",
       "       [ 4.,  8.,  8., ...,  4.,  1.,  4.]], dtype=float32)"
      ]
     },
     "execution_count": 110,
     "metadata": {},
     "output_type": "execute_result"
    }
   ],
   "source": [
    "ndata.shape\n",
    "ndata.astype('float32')"
   ]
  },
  {
   "cell_type": "code",
   "execution_count": 111,
   "metadata": {},
   "outputs": [
    {
     "name": "stdout",
     "output_type": "stream",
     "text": [
      "(699, 9)\n"
     ]
    }
   ],
   "source": [
    "x = ndata[:,:9]\n",
    "y = ndata[:,9]//4\n",
    "#print(np.max(y))\n",
    "#print(np.min(y))\n",
    "print(x.shape)"
   ]
  },
  {
   "cell_type": "code",
   "execution_count": 112,
   "metadata": {},
   "outputs": [],
   "source": [
    "num_feats = x.shape[1]\n",
    "x.astype(float)\n",
    "for i in range(num_feats):\n",
    "    t = x[:,i]\n",
    "    t = t.astype('float32')\n",
    "    #print(type(t))\n",
    "    #print(t.shape)\n",
    "    x[:,i] = (t - np.min(t))/(np.max(t) - np.min(t))\n",
    "    "
   ]
  },
  {
   "cell_type": "code",
   "execution_count": 113,
   "metadata": {},
   "outputs": [
    {
     "name": "stdout",
     "output_type": "stream",
     "text": [
      "(699, 10)\n"
     ]
    }
   ],
   "source": [
    "#add bias term\n",
    "b = np.ones((x.shape[0],1))\n",
    "x = np.hstack((x,b))\n",
    "print(x.shape)"
   ]
  },
  {
   "cell_type": "code",
   "execution_count": 114,
   "metadata": {},
   "outputs": [],
   "source": [
    "xtr,x_test,ytr,y_test = train_test_split(x,y,test_size=0.3)"
   ]
  },
  {
   "cell_type": "code",
   "execution_count": 115,
   "metadata": {},
   "outputs": [
    {
     "name": "stdout",
     "output_type": "stream",
     "text": [
      "(489,)\n",
      "(210,)\n",
      "(489, 10)\n",
      "(210, 10)\n"
     ]
    }
   ],
   "source": [
    "print(ytr.shape)\n",
    "print(y_test.shape)\n",
    "print(xtr.shape)\n",
    "print(x_test.shape)"
   ]
  },
  {
   "cell_type": "code",
   "execution_count": 116,
   "metadata": {},
   "outputs": [],
   "source": [
    "#uniform random initialization of weights\n",
    "w = np.random.uniform(0.0,1.0,x.shape[1]).reshape(x.shape[1],1)\n",
    "#print(w)\n",
    "#print(w.shape)"
   ]
  },
  {
   "cell_type": "code",
   "execution_count": 117,
   "metadata": {},
   "outputs": [],
   "source": [
    "#define hyper-parameters\n",
    "epochs = 200\n",
    "a = 0.2\n",
    "batch_size = 30\n",
    "lamda = 0.01"
   ]
  },
  {
   "cell_type": "code",
   "execution_count": 118,
   "metadata": {},
   "outputs": [],
   "source": [
    "#logistic regression with constant learning rate \n",
    "\n",
    "t1 = time.time()\n",
    "train_acc = []\n",
    "test_acc = []\n",
    "counter = 0\n",
    "m = xtr.shape[0]\n",
    "n = xtr.shape[1]\n",
    "\n",
    "mte = x_test.shape[0]\n",
    "\n",
    "for i in range(epochs):\n",
    "   \n",
    "    itr = m//batch_size + 1\n",
    "    \n",
    "    for j in range(itr):\n",
    "        \n",
    "        if j==itr-1:\n",
    "            xb = xtr[(j*batch_size):,:]\n",
    "            yb = ytr[(j*batch_size):]\n",
    "        else:\n",
    "            xb = xtr[(j*batch_size):(j+1)*batch_size, :]\n",
    "            yb = ytr[(j*batch_size):(j+1)*batch_size]\n",
    "            \n",
    "        z = np.dot(xb,w)\n",
    "        \n",
    "        z = z.astype('float')\n",
    "        ybar = 1/(1+np.exp(-z))\n",
    "        ybar = ybar.flatten()\n",
    "        \n",
    "        mb = xb.shape[0]\n",
    "        #cross-entropy loss in training set\n",
    "        err = -np.sum(((1-yb)*np.log(1-ybar)+yb*np.log(ybar)))/mb + (lamda/mb)*norm(w)\n",
    "\n",
    "        \n",
    "\n",
    "        #cross-entropy loss in test set\n",
    "        tmp1 = np.dot(x_test,w)\n",
    "        tmp1 = tmp1.astype('float')\n",
    "        tmp = 1/(1+np.exp(-tmp1))\n",
    "        tmp = tmp.flatten()\n",
    "\n",
    "        term1 = (1.0 - y_test)\n",
    "        term2 = np.log(1.0 - tmp)\n",
    "        term3 = y_test\n",
    "        term4 = np.log(tmp)    \n",
    "        tmp_err = -np.sum(term1*term2 - term3*term4)/mte + (lamda/mte)*norm(w)\n",
    "        \n",
    "\n",
    "        #calculate gradient\n",
    "        one_y = 1 - yb\n",
    "        one_yhat = (1 - ybar)\n",
    "\n",
    "        for j in range(n):\n",
    "            xcurr = xb[:,j]\n",
    "            ntmp = (one_y*ybar - one_yhat*yb)*xcurr\n",
    "            del_w = np.sum(ntmp)/mb\n",
    "            rf = 1 + (counter/100)\n",
    "            counter = counter+1\n",
    "            w[j] = w[j]*(1 - lamda/mb)- (a/rf)*del_w\n",
    "    \n",
    "          \n",
    "    train_acc.append(err)\n",
    "    test_acc.append(tmp_err)\n",
    "    \n",
    "        #if(i%10 == 0):\n",
    "            #print(\"Train Error\", err)\n",
    "            #print(\"Test Error\", tmp_err)\n",
    "t2 = time.time()\n"
   ]
  },
  {
   "cell_type": "code",
   "execution_count": 119,
   "metadata": {},
   "outputs": [
    {
     "data": {
      "image/png": "[encoded data removed]",
      "text/plain": [
       "<matplotlib.figure.Figure at 0x7f63b2a4f898>"
      ]
     },
     "metadata": {},
     "output_type": "display_data"
    }
   ],
   "source": [
    "x_axis = np.arange(len(test_acc))\n",
    "import matplotlib.pyplot as plt\n",
    "%matplotlib inline\n",
    "plt.plot(x_axis,train_acc,'g')\n",
    "plt.plot(x_axis,test_acc,'r')\n",
    "plt.show()"
   ]
  },
  {
   "cell_type": "code",
   "execution_count": 120,
   "metadata": {},
   "outputs": [],
   "source": [
    "tmp = np.where(tmp > 0.5, 1, 0)\n",
    "tmp = tmp.astype('int')"
   ]
  },
  {
   "cell_type": "code",
   "execution_count": 121,
   "metadata": {},
   "outputs": [],
   "source": [
    "#find number of mismatches\n",
    "\n",
    "d2 = tmp - y_test\n",
    "dacc2 = np.abs(d2)\n",
    "acc2 = np.sum(dacc2)/tmp.shape[0]\n",
    "\n",
    "\n",
    "ztr = np.dot(xtr,w)\n",
    "ztr = ztr.astype('float')\n",
    "ypred = 1/(1+np.exp(-ztr))\n",
    "ypred = ypred.flatten()\n",
    "ypred = np.where(ypred>0.5,1,0)\n",
    "ypred = ypred.astype('int')\n",
    "\n",
    "d1 = ytr - ypred\n",
    "dacc1 = np.abs(d1)\n",
    "acc1 = np.sum(dacc1)/ypred.shape[0]\n"
   ]
  },
  {
   "cell_type": "code",
   "execution_count": 122,
   "metadata": {},
   "outputs": [
    {
     "name": "stdout",
     "output_type": "stream",
     "text": [
      "Average Time Taken per Epoch:  0.010355483293533325\n",
      "Total Time Taken:              2.071096658706665\n",
      "Minimum Training Loss:         0.025370520129162823\n",
      "Minimum Test Loss:             0.007060166963901847\n",
      "Final Training Loss:           0.025370520129162823\n",
      "Final Test Loss:               0.007060166963901847\n",
      "F-1 Score:                     0.9738356881214024\n",
      "Accuracy on Training Data:     0.03885480572597137\n",
      "Accuracy on Test Data:         0.023809523809523808\n"
     ]
    }
   ],
   "source": [
    "y_true = list(y_test)\n",
    "y_pred = list(tmp)\n",
    "score = f1_score(y_true, y_pred, average='macro')\n",
    "print(\"Average Time Taken per Epoch: \", (t2-t1)/epochs)\n",
    "print(\"Total Time Taken:             \",t2-t1)\n",
    "print(\"Minimum Training Loss:        \",min(train_acc))\n",
    "print(\"Minimum Test Loss:            \",min(test_acc))\n",
    "print(\"Final Training Loss:          \",train_acc[-1])\n",
    "print(\"Final Test Loss:              \",test_acc[-1])\n",
    "print(\"F-1 Score:                    \",score)\n",
    "print(\"Accuracy on Training Data:    \",acc1)\n",
    "print(\"Accuracy on Test Data:        \",acc2)"
   ]
  },
  {
   "cell_type": "code",
   "execution_count": null,
   "metadata": {},
   "outputs": [],
   "source": []
  },
  {
   "cell_type": "code",
   "execution_count": null,
   "metadata": {},
   "outputs": [],
   "source": []
  },
  {
   "cell_type": "code",
   "execution_count": null,
   "metadata": {},
   "outputs": [],
   "source": []
  }
 ],
 "metadata": {
  "kernelspec": {
   "display_name": "Python 3",
   "language": "python",
   "name": "python3"
  },
  "language_info": {
   "codemirror_mode": {
    "name": "ipython",
    "version": 3
   },
   "file_extension": ".py",
   "mimetype": "text/x-python",
   "name": "python",
   "nbconvert_exporter": "python",
   "pygments_lexer": "ipython3",
   "version": "3.6.4"
  }
 },
 "nbformat": 4,
 "nbformat_minor": 2
}
