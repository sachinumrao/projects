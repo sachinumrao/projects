{
 "cells": [
  {
   "cell_type": "code",
   "execution_count": 151,
   "metadata": {
    "collapsed": true
   },
   "outputs": [],
   "source": [
    "import numpy as np\n",
    "import matplotlib.pyplot as plt"
   ]
  },
  {
   "cell_type": "code",
   "execution_count": 152,
   "metadata": {
    "collapsed": true
   },
   "outputs": [],
   "source": [
    "testfile=\"test_housing.txt\"\n",
    "datafile=\"housing.txt\""
   ]
  },
  {
   "cell_type": "code",
   "execution_count": 153,
   "metadata": {
    "collapsed": true
   },
   "outputs": [],
   "source": [
    "#load dataset\n",
    "data = np.loadtxt(datafile , usecols=[0,1,2,3,4,5,6,7,8,9,10,11,12])\n",
    "data_dim = data.shape\n",
    "y = np.loadtxt(datafile ,usecols=[13]).reshape(data_dim[0],1)"
   ]
  },
  {
   "cell_type": "code",
   "execution_count": 154,
   "metadata": {},
   "outputs": [],
   "source": [
    "#load test dataset\n",
    "test_data = np.loadtxt(testfile , usecols=[0,1,2,3,4,5,6,7,8,9,10,11,12])\n",
    "test_data_dim = test_data.shape\n",
    "test_y = np.loadtxt(testfile ,usecols=[13]).reshape(test_data_dim[0],1)"
   ]
  },
  {
   "cell_type": "code",
   "execution_count": 155,
   "metadata": {},
   "outputs": [],
   "source": [
    "#normalize dataset and test data\n",
    "full_data = np.vstack((data,test_data))\n",
    "min_data = np.min(full_data)\n",
    "max_data = np.max(full_data)\n",
    "for i in range(13):\n",
    "    if min_data == 0 and max_data == 0 :\n",
    "        continue\n",
    "    else:\n",
    "        data[:,i] = (data[:,i] - min_data)/(max_data - min_data)\n",
    "        test_data[:,i] = (test_data[:,i] - min_data)/(max_data - min_data)\n",
    "\n"
   ]
  },
  {
   "cell_type": "code",
   "execution_count": 156,
   "metadata": {
    "collapsed": true
   },
   "outputs": [],
   "source": [
    "#add bias term in dataset and test data\n",
    "\n",
    "tmp = np.ones((data_dim[0],1))\n",
    "x = np.hstack((tmp,data))\n",
    "x = np.float32(x)\n",
    "\n",
    "tmp = np.ones((test_data_dim[0],1))\n",
    "test = np.hstack((tmp,test_data))\n",
    "test = np.float32(test)"
   ]
  },
  {
   "cell_type": "code",
   "execution_count": 325,
   "metadata": {},
   "outputs": [],
   "source": [
    "#definitions\n",
    "#error L2 norm error\n",
    "num_prop = 14\n",
    "lr = 0.30\n",
    "weight = np.random.random((num_prop,1))\n",
    "n = data_dim[0]\n",
    "num_iter = 100\n",
    "trans_x = x.transpose()\n",
    "err = np.zeros([num_iter,1])"
   ]
  },
  {
   "cell_type": "code",
   "execution_count": 326,
   "metadata": {},
   "outputs": [],
   "source": [
    "#Gradient Descent with weighted learning rate\n",
    "for step in range(num_iter):\n",
    "    y_pred = x.dot(weight)\n",
    "    diff_y = y_pred - y\n",
    "    dev_wt = trans_x.dot(diff_y)\n",
    "    weight = weight - (lr/(step+1))*(dev_wt/n)\n",
    "    err[step] = ((np.sum(diff_y**2))/(2*n))"
   ]
  },
  {
   "cell_type": "code",
   "execution_count": 327,
   "metadata": {},
   "outputs": [
    {
     "data": {
      "image/png": "[encoded data removed]",
      "text/plain": [
       "<matplotlib.figure.Figure at 0x7f41280c11d0>"
      ]
     },
     "metadata": {},
     "output_type": "display_data"
    }
   ],
   "source": [
    "#plot loss function\n",
    "Xplot = np.arange(num_iter)\n",
    "plt.plot(Xplot,err)\n",
    "plt.show()"
   ]
  },
  {
   "cell_type": "code",
   "execution_count": 328,
   "metadata": {},
   "outputs": [
    {
     "name": "stdout",
     "output_type": "stream",
     "text": [
      "50.7608034629\n"
     ]
    }
   ],
   "source": [
    "print(np.min(err))"
   ]
  },
  {
   "cell_type": "code",
   "execution_count": 329,
   "metadata": {},
   "outputs": [
    {
     "name": "stdout",
     "output_type": "stream",
     "text": [
      "8.47915085889\n"
     ]
    }
   ],
   "source": [
    "test_pred = test.dot(weight)\n",
    "test_diff_y = test_pred - test_y\n",
    "test_err = ((np.sum(test_diff_y**2))/(2*test_data_dim[0]))\n",
    "print(test_err)"
   ]
  },
  {
   "cell_type": "code",
   "execution_count": 330,
   "metadata": {},
   "outputs": [
    {
     "name": "stdout",
     "output_type": "stream",
     "text": [
      "Accuracy: 87.1867912146\n"
     ]
    }
   ],
   "source": [
    "rel_err = test_diff_y / test_y\n",
    "percent_err = 100*(np.sum(np.absolute(rel_err)))/test_data_dim[0]\n",
    "percent_accuracy = 100 - percent_err\n",
    "print(\"Accuracy: {}\".format(percent_accuracy))"
   ]
  },
  {
   "cell_type": "code",
   "execution_count": null,
   "metadata": {},
   "outputs": [],
   "source": []
  },
  {
   "cell_type": "code",
   "execution_count": null,
   "metadata": {},
   "outputs": [],
   "source": []
  },
  {
   "cell_type": "code",
   "execution_count": null,
   "metadata": {},
   "outputs": [],
   "source": []
  },
  {
   "cell_type": "code",
   "execution_count": null,
   "metadata": {},
   "outputs": [],
   "source": []
  },
  {
   "cell_type": "code",
   "execution_count": null,
   "metadata": {},
   "outputs": [],
   "source": []
  },
  {
   "cell_type": "code",
   "execution_count": null,
   "metadata": {
    "collapsed": true
   },
   "outputs": [],
   "source": []
  }
 ],
 "metadata": {
  "kernelspec": {
   "display_name": "Python 2",
   "language": "python",
   "name": "python2"
  },
  "language_info": {
   "codemirror_mode": {
    "name": "ipython",
    "version": 2
   },
   "file_extension": ".py",
   "mimetype": "text/x-python",
   "name": "python",
   "nbconvert_exporter": "python",
   "pygments_lexer": "ipython2",
   "version": "2.7.12"
  }
 },
 "nbformat": 4,
 "nbformat_minor": 2
}
